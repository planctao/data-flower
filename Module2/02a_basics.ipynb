{
  "cells": [
    {
      "cell_type": "markdown",
      "metadata": {
        "id": "view-in-github",
        "colab_type": "text"
      },
      "source": [
        "<a href=\"https://colab.research.google.com/github/planctao/data-flower/blob/main/Module2/02a_basics.ipynb\" target=\"_parent\"><img src=\"https://colab.research.google.com/assets/colab-badge.svg\" alt=\"Open In Colab\"/></a>"
      ]
    },
    {
      "cell_type": "markdown",
      "metadata": {
        "id": "4XZN7t5fuZMW"
      },
      "source": [
        "[![Dataflowr](https://raw.githubusercontent.com/dataflowr/website/master/_assets/dataflowr_logo.png)](https://dataflowr.github.io/website/)"
      ]
    },
    {
      "cell_type": "markdown",
      "metadata": {
        "id": "YmJE2a4N8We0"
      },
      "source": [
        "# Module 2: PyTorch tensors and automatic differentiation\n",
        "\n",
        "[Video timestamp](https://youtu.be/BmAS8IH7n3c?t=103)"
      ]
    },
    {
      "cell_type": "code",
      "execution_count": 1,
      "metadata": {
        "id": "zOgNQwiv8We1"
      },
      "outputs": [],
      "source": [
        "import matplotlib.pyplot as plt\n",
        "%matplotlib inline\n",
        "import torch\n",
        "import numpy as np"
      ]
    },
    {
      "cell_type": "code",
      "execution_count": 2,
      "metadata": {
        "colab": {
          "base_uri": "https://localhost:8080/",
          "height": 35
        },
        "id": "smvq6dbY8We4",
        "outputId": "99093a0a-efce-4225-b863-eb7d1dd97738"
      },
      "outputs": [
        {
          "output_type": "execute_result",
          "data": {
            "text/plain": [
              "'2.6.0+cu124'"
            ],
            "application/vnd.google.colaboratory.intrinsic+json": {
              "type": "string"
            }
          },
          "metadata": {},
          "execution_count": 2
        }
      ],
      "source": [
        "torch.__version__"
      ]
    },
    {
      "cell_type": "markdown",
      "metadata": {
        "id": "vURcLof_8We8"
      },
      "source": [
        "Tensors are used to encode the signal to process, but also the internal states and parameters of models.\n",
        "\n",
        "**Manipulating data through this constrained structure allows to use CPUs and GPUs at peak performance.**\n",
        "\n",
        "Construct a 3x5 matrix, uninitialized:"
      ]
    },
    {
      "cell_type": "code",
      "execution_count": 3,
      "metadata": {
        "colab": {
          "base_uri": "https://localhost:8080/"
        },
        "id": "c9tmMiNo8We-",
        "outputId": "891214d4-6bd8-44f6-a8ad-402c6d7f0596"
      },
      "outputs": [
        {
          "output_type": "stream",
          "name": "stdout",
          "text": [
            "torch.float32\n",
            "tensor([[1.5751e-42, 4.5083e-41, 3.4837e-08, 0.0000e+00, 4.2039e-45],\n",
            "        [4.5083e-41, 3.4836e-08, 0.0000e+00, 1.5765e-42, 4.5083e-41],\n",
            "        [3.4837e-08, 0.0000e+00, 4.2039e-45, 4.5083e-41, 3.4836e-08]])\n"
          ]
        }
      ],
      "source": [
        "x = torch.empty(3,5)\n",
        "print(x.dtype)\n",
        "print(x)"
      ]
    },
    {
      "cell_type": "markdown",
      "metadata": {
        "id": "tlonXyHu8WfB"
      },
      "source": [
        "If you got an error this [stackoverflow link](https://stackoverflow.com/questions/50617917/overflow-when-unpacking-long-pytorch) might be useful..."
      ]
    },
    {
      "cell_type": "code",
      "execution_count": 4,
      "metadata": {
        "colab": {
          "base_uri": "https://localhost:8080/"
        },
        "id": "xlY-hwAY8WfB",
        "outputId": "df73c436-6abb-4c72-a8c0-53c3358cab56"
      },
      "outputs": [
        {
          "output_type": "stream",
          "name": "stdout",
          "text": [
            "tensor([[ 0.2873,  1.2910,  0.7646, -1.0735, -1.1825],\n",
            "        [ 1.0642,  0.4076,  1.4252, -0.7591, -0.2548],\n",
            "        [-1.4869, -1.2831, -0.3867,  1.1389, -0.0252]])\n"
          ]
        }
      ],
      "source": [
        "x = torch.randn(3,5)\n",
        "print(x)"
      ]
    },
    {
      "cell_type": "code",
      "execution_count": 5,
      "metadata": {
        "colab": {
          "base_uri": "https://localhost:8080/"
        },
        "id": "7g19ZvvL8WfD",
        "outputId": "304664f7-00a8-4c9f-a36c-18c3a82981cd"
      },
      "outputs": [
        {
          "output_type": "stream",
          "name": "stdout",
          "text": [
            "torch.Size([3, 5])\n"
          ]
        }
      ],
      "source": [
        "print(x.size())"
      ]
    },
    {
      "cell_type": "markdown",
      "metadata": {
        "id": "ZPjoP9Ec8WfG"
      },
      "source": [
        "torch.Size is in fact a [tuple](https://docs.python.org/3/tutorial/datastructures.html#tuples-and-sequences), so it supports the same operations.\n",
        "\n",
        "[Video timestamp](https://youtu.be/BmAS8IH7n3c?t=272)"
      ]
    },
    {
      "cell_type": "code",
      "execution_count": 6,
      "metadata": {
        "colab": {
          "base_uri": "https://localhost:8080/"
        },
        "id": "rgVPlppm8WfG",
        "outputId": "a1a53109-6d6b-43bb-a149-4c6c66e10a6d"
      },
      "outputs": [
        {
          "output_type": "execute_result",
          "data": {
            "text/plain": [
              "5"
            ]
          },
          "metadata": {},
          "execution_count": 6
        }
      ],
      "source": [
        "x.size()[1]"
      ]
    },
    {
      "cell_type": "code",
      "execution_count": 7,
      "metadata": {
        "colab": {
          "base_uri": "https://localhost:8080/"
        },
        "id": "CY87gW168WfI",
        "outputId": "f1a2c6e4-a080-45f7-f0b5-f31473463404"
      },
      "outputs": [
        {
          "output_type": "execute_result",
          "data": {
            "text/plain": [
              "True"
            ]
          },
          "metadata": {},
          "execution_count": 7
        }
      ],
      "source": [
        "x.size() == (3,5)"
      ]
    },
    {
      "cell_type": "markdown",
      "metadata": {
        "id": "jeUshrFT8WfK"
      },
      "source": [
        "### Bridge to numpy\n",
        "\n",
        "[Video timestamp](https://youtu.be/BmAS8IH7n3c?t=325)"
      ]
    },
    {
      "cell_type": "code",
      "execution_count": 8,
      "metadata": {
        "colab": {
          "base_uri": "https://localhost:8080/"
        },
        "id": "C1cDkoT98WfM",
        "outputId": "5edac01f-4919-4164-849b-474b04f49391"
      },
      "outputs": [
        {
          "output_type": "stream",
          "name": "stdout",
          "text": [
            "[[ 0.2872529   1.29102     0.7645851  -1.0735136  -1.1824627 ]\n",
            " [ 1.0642257   0.40755174  1.4252014  -0.75912076 -0.25478882]\n",
            " [-1.4868985  -1.2831483  -0.38667578  1.1388899  -0.02517692]]\n"
          ]
        }
      ],
      "source": [
        "y = x.numpy()\n",
        "print(y)"
      ]
    },
    {
      "cell_type": "code",
      "execution_count": 9,
      "metadata": {
        "colab": {
          "base_uri": "https://localhost:8080/"
        },
        "id": "2DdMiBVY8WfO",
        "outputId": "8f679f1a-b5b0-41cd-aac5-f058741e8f1c"
      },
      "outputs": [
        {
          "output_type": "stream",
          "name": "stdout",
          "text": [
            "float64\n",
            "tensor([1., 1., 1., 1., 1.], dtype=torch.float64)\n"
          ]
        }
      ],
      "source": [
        "a = np.ones(5)\n",
        "b = torch.from_numpy(a)\n",
        "print(a.dtype)\n",
        "print(b)"
      ]
    },
    {
      "cell_type": "code",
      "execution_count": 10,
      "metadata": {
        "colab": {
          "base_uri": "https://localhost:8080/"
        },
        "id": "cg-kloHeB_hR",
        "outputId": "4d789c8a-67e1-441e-adcd-e3b532fb03c8"
      },
      "outputs": [
        {
          "output_type": "stream",
          "name": "stdout",
          "text": [
            "torch.int64 tensor([1, 1, 1, 1, 1])\n",
            "torch.float64 tensor([1., 1., 1., 1., 1.], dtype=torch.float64)\n"
          ]
        }
      ],
      "source": [
        "c = b.long()\n",
        "print(c.dtype, c)\n",
        "print(b.dtype, b)"
      ]
    },
    {
      "cell_type": "code",
      "execution_count": 11,
      "metadata": {
        "colab": {
          "base_uri": "https://localhost:8080/"
        },
        "id": "lZLbt9C38WfQ",
        "outputId": "0f1f46bb-db99-48e9-93e3-ec897dddc781"
      },
      "outputs": [
        {
          "output_type": "stream",
          "name": "stdout",
          "text": [
            "torch.float32 tensor([[-1.0726, -0.2109, -1.0384,  0.4995, -0.3916],\n",
            "        [-0.1350,  0.7771, -1.2271, -0.0200, -2.9418],\n",
            "        [ 0.7888, -0.4320,  0.6463,  0.0055,  0.0482]])\n"
          ]
        }
      ],
      "source": [
        "xr = torch.randn(3, 5)\n",
        "print(xr.dtype, xr)"
      ]
    },
    {
      "cell_type": "code",
      "execution_count": 13,
      "metadata": {
        "colab": {
          "base_uri": "https://localhost:8080/"
        },
        "id": "T5nYMEcM8WfS",
        "outputId": "db9530de-8501-4693-e04e-04eb739f76c3"
      },
      "outputs": [
        {
          "output_type": "stream",
          "name": "stdout",
          "text": [
            "tensor([1., 1., 1., 1., 1.], dtype=torch.float64)\n"
          ]
        },
        {
          "output_type": "execute_result",
          "data": {
            "text/plain": [
              "tensor([[-0.0726,  0.7891, -0.0384,  1.4995,  0.6084],\n",
              "        [ 0.8650,  1.7771, -0.2271,  0.9800, -1.9418],\n",
              "        [ 1.7888,  0.5680,  1.6463,  1.0055,  1.0482]], dtype=torch.float64)"
            ]
          },
          "metadata": {},
          "execution_count": 13
        }
      ],
      "source": [
        "resb = xr + b\n",
        "print(b)\n",
        "resb"
      ]
    },
    {
      "cell_type": "code",
      "execution_count": 14,
      "metadata": {
        "colab": {
          "base_uri": "https://localhost:8080/"
        },
        "id": "QGTfk0M9B_hd",
        "outputId": "421e871e-e59d-42df-f536-fa36ad06ad6c"
      },
      "outputs": [
        {
          "output_type": "execute_result",
          "data": {
            "text/plain": [
              "tensor([[-0.0726,  0.7891, -0.0384,  1.4995,  0.6084],\n",
              "        [ 0.8650,  1.7771, -0.2271,  0.9800, -1.9418],\n",
              "        [ 1.7888,  0.5680,  1.6463,  1.0055,  1.0482]])"
            ]
          },
          "metadata": {},
          "execution_count": 14
        }
      ],
      "source": [
        "resc = xr + c\n",
        "resc"
      ]
    },
    {
      "cell_type": "markdown",
      "metadata": {
        "id": "YuZ0-dswB_hf"
      },
      "source": [
        "Be careful with types!"
      ]
    },
    {
      "cell_type": "code",
      "execution_count": 15,
      "metadata": {
        "colab": {
          "base_uri": "https://localhost:8080/"
        },
        "id": "4Jdin_2zB_hg",
        "outputId": "9b3173f6-cdc4-4db9-9987-39ec0e1cd935"
      },
      "outputs": [
        {
          "output_type": "execute_result",
          "data": {
            "text/plain": [
              "tensor([[ True, False,  True, False, False],\n",
              "        [ True, False,  True, False,  True],\n",
              "        [False,  True, False, False, False]])"
            ]
          },
          "metadata": {},
          "execution_count": 15
        }
      ],
      "source": [
        "resb == resc"
      ]
    },
    {
      "cell_type": "code",
      "execution_count": 17,
      "metadata": {
        "id": "Rn7Xp9dpB_hk"
      },
      "outputs": [],
      "source": [
        "torch.set_printoptions(precision=10)"
      ]
    },
    {
      "cell_type": "code",
      "execution_count": 18,
      "metadata": {
        "colab": {
          "base_uri": "https://localhost:8080/"
        },
        "id": "ipyVIQiKB_hn",
        "outputId": "5802c6c1-d21d-4c7d-ca70-dd632347affb"
      },
      "outputs": [
        {
          "output_type": "execute_result",
          "data": {
            "text/plain": [
              "tensor(0.7890603244, dtype=torch.float64)"
            ]
          },
          "metadata": {},
          "execution_count": 18
        }
      ],
      "source": [
        "resb[0,1]"
      ]
    },
    {
      "cell_type": "code",
      "execution_count": 19,
      "metadata": {
        "colab": {
          "base_uri": "https://localhost:8080/"
        },
        "id": "dEdzZjHhB_hp",
        "outputId": "48022cf0-42c8-43c4-e58a-97d84359b58b"
      },
      "outputs": [
        {
          "output_type": "execute_result",
          "data": {
            "text/plain": [
              "tensor(0.7890603542)"
            ]
          },
          "metadata": {},
          "execution_count": 19
        }
      ],
      "source": [
        "resc[0,1]"
      ]
    },
    {
      "cell_type": "code",
      "execution_count": 20,
      "metadata": {
        "colab": {
          "base_uri": "https://localhost:8080/"
        },
        "id": "nkYkbUJNB_hr",
        "outputId": "dc1a7354-9900-48e8-e3c4-95994d0d878a"
      },
      "outputs": [
        {
          "output_type": "execute_result",
          "data": {
            "text/plain": [
              "torch.float32"
            ]
          },
          "metadata": {},
          "execution_count": 20
        }
      ],
      "source": [
        "resc[0,1].dtype"
      ]
    },
    {
      "cell_type": "code",
      "execution_count": 21,
      "metadata": {
        "colab": {
          "base_uri": "https://localhost:8080/"
        },
        "id": "XCBKNjLdB_hu",
        "outputId": "1d133f34-090a-4190-c7ab-01193f296480"
      },
      "outputs": [
        {
          "output_type": "execute_result",
          "data": {
            "text/plain": [
              "tensor(-0.2109396756)"
            ]
          },
          "metadata": {},
          "execution_count": 21
        }
      ],
      "source": [
        "xr[0,1]"
      ]
    },
    {
      "cell_type": "code",
      "execution_count": 22,
      "metadata": {
        "id": "wGdO-oaRB_hw"
      },
      "outputs": [],
      "source": [
        "torch.set_printoptions(precision=4)"
      ]
    },
    {
      "cell_type": "markdown",
      "metadata": {
        "id": "kt-CZCaZ8WgO"
      },
      "source": [
        "### [Broadcasting](https://numpy.org/doc/stable/user/basics.broadcasting.html)\n",
        "\n",
        "[Video timestamp](https://youtu.be/BmAS8IH7n3c?t=670)\n",
        "\n",
        "Broadcasting automagically expands dimensions by replicating coefficients, when it is necessary to perform operations.\n",
        "\n",
        "1. If one of the tensors has fewer dimensions than the other, it is reshaped by adding as many dimensions of size 1 as necessary in the front; then\n",
        "2. for every mismatch, if one of the two tensor is of size one, it is expanded along this axis by replicating  coefficients.\n",
        "\n",
        "If there is a tensor size mismatch for one of the dimension and neither of them is one, the operation fails."
      ]
    },
    {
      "cell_type": "code",
      "execution_count": 23,
      "metadata": {
        "colab": {
          "base_uri": "https://localhost:8080/"
        },
        "id": "SvB3V_ek8WgP",
        "outputId": "f94b201f-b196-4325-9d0b-131b7dabe31b"
      },
      "outputs": [
        {
          "output_type": "stream",
          "name": "stdout",
          "text": [
            "torch.Size([4, 1])\n",
            "torch.Size([1, 5])\n"
          ]
        }
      ],
      "source": [
        "A = torch.tensor([[1.], [2.], [3.], [4.]])\n",
        "print(A.size())\n",
        "B = torch.tensor([[5., -5., 5., -5., 5.]])\n",
        "print(B.size())\n",
        "C = A + B"
      ]
    },
    {
      "cell_type": "code",
      "execution_count": 24,
      "metadata": {
        "colab": {
          "base_uri": "https://localhost:8080/"
        },
        "id": "aqqe1aTr8WgQ",
        "outputId": "b20d3e48-f2b6-4485-84ec-86da5bdf401e"
      },
      "outputs": [
        {
          "output_type": "execute_result",
          "data": {
            "text/plain": [
              "tensor([[ 6., -4.,  6., -4.,  6.],\n",
              "        [ 7., -3.,  7., -3.,  7.],\n",
              "        [ 8., -2.,  8., -2.,  8.],\n",
              "        [ 9., -1.,  9., -1.,  9.]])"
            ]
          },
          "metadata": {},
          "execution_count": 24
        }
      ],
      "source": [
        "C"
      ]
    },
    {
      "cell_type": "markdown",
      "metadata": {
        "id": "lvj9kBUCB_h3"
      },
      "source": [
        "The original (column-)vector\n",
        "\\begin{eqnarray*}\n",
        "A = \\left( \\begin{array}{c}\n",
        "1\\\\\n",
        "2\\\\\n",
        "3\\\\\n",
        "4\\\\\n",
        "\\end{array}\\right)\n",
        "\\end{eqnarray*}\n",
        "is transformed into the matrix\n",
        "\\begin{eqnarray*}\n",
        "A = \\left( \\begin{array}{ccccc}\n",
        "1&1&1&1&1\\\\\n",
        "2&2&2&2&2\\\\\n",
        "3&3&3&3&3\\\\\n",
        "4&4&4&4&4\n",
        "\\end{array}\\right)\n",
        "\\end{eqnarray*}\n",
        "and the original (row-)vector\n",
        "\\begin{eqnarray*}\n",
        "B = (5,-5,5,-5,5)\n",
        "\\end{eqnarray*}\n",
        "is transformed into the matrix\n",
        "\\begin{eqnarray*}\n",
        "B = \\left( \\begin{array}{ccccc}\n",
        "5&-5&5&-5&5\\\\\n",
        "5&-5&5&-5&5\\\\\n",
        "5&-5&5&-5&5\\\\\n",
        "5&-5&5&-5&5\n",
        "\\end{array}\\right)\n",
        "\\end{eqnarray*}\n",
        "so that summing these matrices gives:\n",
        "\\begin{eqnarray*}\n",
        "A+B = \\left( \\begin{array}{ccccc}\n",
        "6&-4&6&-4&6\\\\\n",
        "7&-3&7&-3&7\\\\\n",
        "8&-2&8&-2&8\\\\\n",
        "9&-1&9&-1&9\n",
        "\\end{array}\\right)\n",
        "\\end{eqnarray*}"
      ]
    },
    {
      "cell_type": "markdown",
      "metadata": {
        "id": "gq32MIeZB_h3"
      },
      "source": [
        "### In-place modification\n",
        "\n",
        "[Video timestamp](https://youtu.be/BmAS8IH7n3c?t=875)"
      ]
    },
    {
      "cell_type": "code",
      "execution_count": 25,
      "metadata": {
        "colab": {
          "base_uri": "https://localhost:8080/"
        },
        "id": "-V4Qvh2JB_h4",
        "outputId": "be4fcf42-3ccd-41b5-c756-cac6f55f5184"
      },
      "outputs": [
        {
          "output_type": "execute_result",
          "data": {
            "text/plain": [
              "tensor([[ 0.2873,  1.2910,  0.7646, -1.0735, -1.1825],\n",
              "        [ 1.0642,  0.4076,  1.4252, -0.7591, -0.2548],\n",
              "        [-1.4869, -1.2831, -0.3867,  1.1389, -0.0252]])"
            ]
          },
          "metadata": {},
          "execution_count": 25
        }
      ],
      "source": [
        "x"
      ]
    },
    {
      "cell_type": "code",
      "execution_count": 26,
      "metadata": {
        "colab": {
          "base_uri": "https://localhost:8080/"
        },
        "id": "VptqIf-0B_h7",
        "outputId": "06d1c23a-4b7d-42a6-a5f9-43d3f206df5c"
      },
      "outputs": [
        {
          "output_type": "execute_result",
          "data": {
            "text/plain": [
              "tensor([[-1.0726, -0.2109, -1.0384,  0.4995, -0.3916],\n",
              "        [-0.1350,  0.7771, -1.2271, -0.0200, -2.9418],\n",
              "        [ 0.7888, -0.4320,  0.6463,  0.0055,  0.0482]])"
            ]
          },
          "metadata": {},
          "execution_count": 26
        }
      ],
      "source": [
        "xr"
      ]
    },
    {
      "cell_type": "code",
      "execution_count": 27,
      "metadata": {
        "colab": {
          "base_uri": "https://localhost:8080/"
        },
        "id": "TlLf2SSZ8WfY",
        "outputId": "bd636db5-9c48-45f9-d00c-bd7ace4f091c"
      },
      "outputs": [
        {
          "output_type": "stream",
          "name": "stdout",
          "text": [
            "tensor([[-0.7853,  1.0801, -0.2738, -0.5740, -1.5741],\n",
            "        [ 0.9292,  1.1846,  0.1981, -0.7791, -3.1966],\n",
            "        [-0.6981, -1.7152,  0.2596,  1.1444,  0.0230]])\n"
          ]
        }
      ],
      "source": [
        "print(x+xr)"
      ]
    },
    {
      "cell_type": "code",
      "execution_count": 28,
      "metadata": {
        "colab": {
          "base_uri": "https://localhost:8080/"
        },
        "id": "jk8j_AhL8Wfa",
        "outputId": "1d968c20-214e-4cb3-cdad-8773e6faedb9"
      },
      "outputs": [
        {
          "output_type": "stream",
          "name": "stdout",
          "text": [
            "tensor([[-0.7853,  1.0801, -0.2738, -0.5740, -1.5741],\n",
            "        [ 0.9292,  1.1846,  0.1981, -0.7791, -3.1966],\n",
            "        [-0.6981, -1.7152,  0.2596,  1.1444,  0.0230]])\n"
          ]
        }
      ],
      "source": [
        "x.add_(xr)\n",
        "print(x)"
      ]
    },
    {
      "cell_type": "markdown",
      "metadata": {
        "id": "KmB6aFc08Wfc"
      },
      "source": [
        "Any operation that mutates a tensor in-place is post-fixed with an ```_```\n",
        "\n",
        "For example: ```x.fill_(y)```, ```x.t_()```, will change ```x```."
      ]
    },
    {
      "cell_type": "code",
      "execution_count": 29,
      "metadata": {
        "colab": {
          "base_uri": "https://localhost:8080/"
        },
        "id": "Rzb4jk-d8Wfd",
        "outputId": "de665601-d79a-43fa-9475-936a61b87249"
      },
      "outputs": [
        {
          "output_type": "stream",
          "name": "stdout",
          "text": [
            "tensor([[-0.7853,  0.9292, -0.6981],\n",
            "        [ 1.0801,  1.1846, -1.7152],\n",
            "        [-0.2738,  0.1981,  0.2596],\n",
            "        [-0.5740, -0.7791,  1.1444],\n",
            "        [-1.5741, -3.1966,  0.0230]])\n"
          ]
        }
      ],
      "source": [
        "print(x.t())"
      ]
    },
    {
      "cell_type": "code",
      "execution_count": 30,
      "metadata": {
        "colab": {
          "base_uri": "https://localhost:8080/"
        },
        "id": "ZNXvqa_38Wff",
        "outputId": "c6545084-08dc-4565-d071-9ee02cf9f3a1"
      },
      "outputs": [
        {
          "output_type": "stream",
          "name": "stdout",
          "text": [
            "tensor([[-0.7853,  0.9292, -0.6981],\n",
            "        [ 1.0801,  1.1846, -1.7152],\n",
            "        [-0.2738,  0.1981,  0.2596],\n",
            "        [-0.5740, -0.7791,  1.1444],\n",
            "        [-1.5741, -3.1966,  0.0230]])\n"
          ]
        }
      ],
      "source": [
        "x.t_()\n",
        "print(x)"
      ]
    },
    {
      "cell_type": "markdown",
      "metadata": {
        "id": "zO4O1rJD8Wfi"
      },
      "source": [
        "### Shared memory\n",
        "\n",
        "[Video timestamp](https://youtu.be/BmAS8IH7n3c?t=990)\n",
        "\n",
        "Also be careful, changing the torch tensor modify the numpy array and vice-versa...\n",
        "\n",
        "This is explained in the PyTorch documentation [here](https://pytorch.org/docs/stable/torch.html#torch.from_numpy):\n",
        "The returned tensor by `torch.from_numpy` and ndarray share the same memory. Modifications to the tensor will be reflected in the ndarray and vice versa."
      ]
    },
    {
      "cell_type": "code",
      "execution_count": null,
      "metadata": {
        "id": "EYOR2MzI8Wfj"
      },
      "outputs": [],
      "source": [
        "a = np.ones(5)\n",
        "b = torch.from_numpy(a)\n",
        "print(b)"
      ]
    },
    {
      "cell_type": "code",
      "execution_count": null,
      "metadata": {
        "id": "ZP8DJXaC8Wfl"
      },
      "outputs": [],
      "source": [
        "a[2] = 0\n",
        "print(b)"
      ]
    },
    {
      "cell_type": "code",
      "execution_count": null,
      "metadata": {
        "id": "5Ixqe4FEB_iL"
      },
      "outputs": [],
      "source": [
        "b[3] = 5\n",
        "print(a)"
      ]
    },
    {
      "cell_type": "markdown",
      "metadata": {
        "id": "ahC2FkEGB_iN"
      },
      "source": [
        "### Cuda\n",
        "\n",
        "[Video timestamp](https://youtu.be/BmAS8IH7n3c?t=1120)"
      ]
    },
    {
      "cell_type": "code",
      "execution_count": 31,
      "metadata": {
        "colab": {
          "base_uri": "https://localhost:8080/"
        },
        "id": "0Aq_IjCa8Wfo",
        "outputId": "cb59911c-ccbb-4abd-a1f6-34f917f36c40"
      },
      "outputs": [
        {
          "output_type": "execute_result",
          "data": {
            "text/plain": [
              "True"
            ]
          },
          "metadata": {},
          "execution_count": 31
        }
      ],
      "source": [
        "torch.cuda.is_available()"
      ]
    },
    {
      "cell_type": "code",
      "execution_count": 33,
      "metadata": {
        "id": "eZ9T7v3L8Wfq"
      },
      "outputs": [],
      "source": [
        "#device = torch.device('cpu')\n",
        "device = torch.device('cuda') # Uncomment this to run on GPU"
      ]
    },
    {
      "cell_type": "code",
      "execution_count": 35,
      "metadata": {
        "colab": {
          "base_uri": "https://localhost:8080/"
        },
        "id": "BQv3WhHn8Wft",
        "outputId": "9ace9df4-b215-4166-f2a0-ee120bb3e67d"
      },
      "outputs": [
        {
          "output_type": "execute_result",
          "data": {
            "text/plain": [
              "device(type='cpu')"
            ]
          },
          "metadata": {},
          "execution_count": 35
        }
      ],
      "source": [
        "x.device"
      ]
    },
    {
      "cell_type": "code",
      "execution_count": 36,
      "metadata": {
        "colab": {
          "base_uri": "https://localhost:8080/"
        },
        "id": "eKY8kHv_8Wfw",
        "outputId": "c8e46d4f-e3c3-43a9-d739-477d57f18cc7"
      },
      "outputs": [
        {
          "output_type": "stream",
          "name": "stdout",
          "text": [
            "tensor([[ 0.2147,  1.9292,  0.3019],\n",
            "        [ 2.0801,  2.1846, -0.7152],\n",
            "        [ 0.7262,  1.1981,  1.2596],\n",
            "        [ 0.4260,  0.2209,  2.1444],\n",
            "        [-0.5741, -2.1966,  1.0230]], device='cuda:0') torch.cuda.FloatTensor\n",
            "tensor([[ 0.2147,  1.9292,  0.3019],\n",
            "        [ 2.0801,  2.1846, -0.7152],\n",
            "        [ 0.7262,  1.1981,  1.2596],\n",
            "        [ 0.4260,  0.2209,  2.1444],\n",
            "        [-0.5741, -2.1966,  1.0230]], dtype=torch.float64)\n"
          ]
        }
      ],
      "source": [
        "# let us run this cell only if CUDA is available\n",
        "# We will use ``torch.device`` objects to move tensors in and out of GPU\n",
        "if torch.cuda.is_available():\n",
        "    y = torch.ones_like(x, device=device)  # directly create a tensor on GPU\n",
        "    x = x.to(device)                       # or just use strings ``.to(\"cuda\")``\n",
        "    z = x + y\n",
        "    print(z,z.type())\n",
        "    print(z.to(\"cpu\", torch.double))       # ``.to`` can also change dtype together!"
      ]
    },
    {
      "cell_type": "code",
      "execution_count": 37,
      "metadata": {
        "id": "1A7Q5VYK8Wfx"
      },
      "outputs": [],
      "source": [
        "x = torch.randn(1)\n",
        "x = x.to(device)"
      ]
    },
    {
      "cell_type": "code",
      "execution_count": 38,
      "metadata": {
        "colab": {
          "base_uri": "https://localhost:8080/"
        },
        "id": "EnzdVsQW8HR3",
        "outputId": "37696a8c-65ea-42ff-baf9-87111cf6cd09"
      },
      "outputs": [
        {
          "output_type": "execute_result",
          "data": {
            "text/plain": [
              "device(type='cuda', index=0)"
            ]
          },
          "metadata": {},
          "execution_count": 38
        }
      ],
      "source": [
        "x.device"
      ]
    },
    {
      "cell_type": "code",
      "execution_count": 39,
      "metadata": {
        "colab": {
          "base_uri": "https://localhost:8080/"
        },
        "id": "6DzbPRKV8Wfz",
        "outputId": "d66c1a79-6eca-418a-fe5d-757683c92c74"
      },
      "outputs": [
        {
          "output_type": "stream",
          "name": "stdout",
          "text": [
            "tensor([-0.0223], device='cuda:0')\n",
            "-0.022292090579867363\n",
            "[-0.02229209]\n"
          ]
        }
      ],
      "source": [
        "# the following line is only useful if CUDA is available\n",
        "x = x.data\n",
        "print(x)\n",
        "print(x.item())\n",
        "print(x.cpu().numpy())"
      ]
    },
    {
      "cell_type": "markdown",
      "metadata": {
        "id": "Ppop1eqWB_if"
      },
      "source": [
        "# Simple interfaces to standard image data-bases\n",
        "\n",
        "[Video timestamp](https://youtu.be/BmAS8IH7n3c?t=1354)\n",
        "\n",
        "An example, the [CIFAR10](https://pytorch.org/docs/stable/torchvision/datasets.html#torchvision.datasets.CIFAR10) dataset."
      ]
    },
    {
      "cell_type": "code",
      "execution_count": 40,
      "metadata": {
        "colab": {
          "base_uri": "https://localhost:8080/"
        },
        "id": "E7O6lDC88Wf1",
        "outputId": "74937476-d407-4988-ef1e-f0f4fdc1e22c"
      },
      "outputs": [
        {
          "output_type": "stream",
          "name": "stderr",
          "text": [
            "100%|██████████| 170M/170M [00:03<00:00, 48.8MB/s]\n"
          ]
        },
        {
          "output_type": "execute_result",
          "data": {
            "text/plain": [
              "(50000, 32, 32, 3)"
            ]
          },
          "metadata": {},
          "execution_count": 40
        }
      ],
      "source": [
        "import torchvision\n",
        "\n",
        "data_dir = 'content/data'\n",
        "\n",
        "cifar = torchvision.datasets.CIFAR10(data_dir, train = True, download = True)\n",
        "cifar.data.shape"
      ]
    },
    {
      "cell_type": "markdown",
      "metadata": {
        "id": "JfIsAgwGB_ih"
      },
      "source": [
        "Documentation about the [`permute`](https://pytorch.org/docs/stable/tensors.html#torch.Tensor.permute) operation."
      ]
    },
    {
      "cell_type": "code",
      "execution_count": 41,
      "metadata": {
        "colab": {
          "base_uri": "https://localhost:8080/"
        },
        "id": "37KuS3m-B_ii",
        "outputId": "8fb7888d-3fe8-4c93-a842-a272db907c0a"
      },
      "outputs": [
        {
          "output_type": "stream",
          "name": "stdout",
          "text": [
            "torch.FloatTensor torch.Size([50000, 3, 32, 32]) 0.0 1.0\n"
          ]
        }
      ],
      "source": [
        "x = torch.from_numpy(cifar.data).permute(0,3,1,2).float()\n",
        "x = x / 255\n",
        "print(x.type(), x.size(), x.min().item(), x.max().item())"
      ]
    },
    {
      "cell_type": "markdown",
      "metadata": {
        "id": "dfrAC1GaB_ik"
      },
      "source": [
        "Documentation about the [`narrow(input, dim, start, length)`](https://pytorch.org/docs/stable/torch.html#torch.narrow) operation."
      ]
    },
    {
      "cell_type": "code",
      "execution_count": null,
      "metadata": {
        "id": "DZUzzXJD8Wf3"
      },
      "outputs": [],
      "source": [
        "# Narrows to the first images, converts to float\n",
        "x = torch.narrow(x, 0, 0, 48)"
      ]
    },
    {
      "cell_type": "code",
      "execution_count": null,
      "metadata": {
        "id": "q5J3ohUMB_im"
      },
      "outputs": [],
      "source": [
        "x.shape"
      ]
    },
    {
      "cell_type": "code",
      "execution_count": null,
      "metadata": {
        "id": "eVT7H5jS8Wf8"
      },
      "outputs": [],
      "source": [
        "# Showing images\n",
        "def show(img):\n",
        "    npimg = img.numpy()\n",
        "    plt.figure(figsize=(20,10))\n",
        "    plt.imshow(np.transpose(npimg, (1,2,0)), interpolation='nearest')\n",
        "\n",
        "show(torchvision.utils.make_grid(x, nrow = 12))"
      ]
    },
    {
      "cell_type": "code",
      "execution_count": null,
      "metadata": {
        "id": "9WuxYev_8Wf_"
      },
      "outputs": [],
      "source": [
        "# Kills the green and blue channels\n",
        "x.narrow(1, 1, 2).fill_(0)\n",
        "show(torchvision.utils.make_grid(x, nrow = 12))"
      ]
    },
    {
      "cell_type": "markdown",
      "metadata": {
        "id": "QWopk2GX8WgB"
      },
      "source": [
        "# Autograd: automatic differentiation\n",
        "\n",
        "[Video timestamp](https://youtu.be/Z6H3zakmn6E?t=40)\n",
        "\n",
        "When executing tensor operations, PyTorch can automatically construct on-the-fly the graph of operations to compute the gradient of any quantity with respect to any tensor involved.\n",
        "\n",
        "To be more concrete, we introduce the following example: we consider parameters $w\\in \\mathbb{R}$ and $b\\in \\mathbb{R}$ with the corresponding function:\n",
        "\\begin{eqnarray*}\n",
        "\\ell = \\left(\\exp(wx+b) - y^* \\right)^2\n",
        "\\end{eqnarray*}\n",
        "\n",
        "Our goal here, will be to compute the following partial derivatives:\n",
        "\\begin{eqnarray*}\n",
        "\\frac{\\partial \\ell}{\\partial w}\\mbox{ and, }\\frac{\\partial \\ell}{\\partial b}.\n",
        "\\end{eqnarray*}\n",
        "\n",
        "The reason for doing this will be clear when you will solve the practicals for this lesson!\n",
        "\n",
        "You can decompose this function as a composition of basic operations. This is call the forward pass on the graph of operations.\n",
        "![backprop1](https://dataflowr.github.io/notebooks/Module2/img/backprop1.png)"
      ]
    },
    {
      "cell_type": "markdown",
      "metadata": {
        "id": "78AWWCb9B_iu"
      },
      "source": [
        "Let say we start with our model in `numpy`:"
      ]
    },
    {
      "cell_type": "code",
      "execution_count": null,
      "metadata": {
        "id": "4TEixrqxB_iv"
      },
      "outputs": [],
      "source": [
        "w = np.array([0.5])\n",
        "b = np.array([2])\n",
        "xx = np.array([0.5])#np.arange(0,1.5,.5)"
      ]
    },
    {
      "cell_type": "markdown",
      "metadata": {
        "id": "CZ8DlM8lB_iw"
      },
      "source": [
        "transform these into `tensor`:"
      ]
    },
    {
      "cell_type": "code",
      "execution_count": null,
      "metadata": {
        "id": "tKl5570iB_ix"
      },
      "outputs": [],
      "source": [
        "xx_t = torch.from_numpy(xx)\n",
        "w_t = torch.from_numpy(w)\n",
        "b_t = torch.from_numpy(b)"
      ]
    },
    {
      "cell_type": "markdown",
      "metadata": {
        "id": "j9PwWnxYB_iz"
      },
      "source": [
        "[Video timestamp](https://youtu.be/Z6H3zakmn6E?t=224)\n",
        "\n",
        "A `tensor` has a Boolean field `requires_grad`, set to `False` by default, which states if PyTorch should build the graph of operations so that gradients with respect to it can be computed."
      ]
    },
    {
      "cell_type": "code",
      "execution_count": null,
      "metadata": {
        "id": "WbWfbvtdB_iz"
      },
      "outputs": [],
      "source": [
        "w_t.requires_grad"
      ]
    },
    {
      "cell_type": "markdown",
      "metadata": {
        "id": "T8rD3GLyB_i2"
      },
      "source": [
        "We want to take derivative with respect to $w$ so we change this value:"
      ]
    },
    {
      "cell_type": "code",
      "execution_count": null,
      "metadata": {
        "id": "iqS0CC8NB_i2"
      },
      "outputs": [],
      "source": [
        "w_t.requires_grad_(True)"
      ]
    },
    {
      "cell_type": "markdown",
      "metadata": {
        "id": "ysa_qEvFB_i5"
      },
      "source": [
        "We want to do the same thing for $b$ but the following line will produce an error!"
      ]
    },
    {
      "cell_type": "code",
      "execution_count": null,
      "metadata": {
        "id": "8pSa2V4yB_i5"
      },
      "outputs": [],
      "source": [
        "b_t.requires_grad_(True)"
      ]
    },
    {
      "cell_type": "markdown",
      "metadata": {
        "id": "EL0X9fIsB_i8"
      },
      "source": [
        "Reading the error message should allow you to correct the mistake!"
      ]
    },
    {
      "cell_type": "code",
      "execution_count": null,
      "metadata": {
        "id": "imH8JSXxB_i-"
      },
      "outputs": [],
      "source": [
        "dtype = torch.float64"
      ]
    },
    {
      "cell_type": "code",
      "execution_count": null,
      "metadata": {
        "id": "XLSSIn5jB_jA"
      },
      "outputs": [],
      "source": [
        "b_t = b_t.type(dtype)"
      ]
    },
    {
      "cell_type": "code",
      "execution_count": null,
      "metadata": {
        "id": "k6mpavg-B_jD"
      },
      "outputs": [],
      "source": [
        "b_t.requires_grad_(True)"
      ]
    },
    {
      "cell_type": "markdown",
      "metadata": {
        "id": "Melb8jo8B_jE"
      },
      "source": [
        "[Video timestamp](https://youtu.be/Z6H3zakmn6E?t=404)\n",
        "\n",
        "We now compute the function:"
      ]
    },
    {
      "cell_type": "code",
      "execution_count": null,
      "metadata": {
        "id": "elI91IulB_jF"
      },
      "outputs": [],
      "source": [
        "def fun(x,ystar):\n",
        "    y = torch.exp(w_t*x+b_t)\n",
        "    print(y)\n",
        "    return torch.sum((y-ystar)**2)\n",
        "\n",
        "ystar_t = torch.randn_like(xx_t)\n",
        "l_t = fun(xx_t,ystar_t)"
      ]
    },
    {
      "cell_type": "code",
      "execution_count": null,
      "metadata": {
        "id": "Q5qpcse1B_jG"
      },
      "outputs": [],
      "source": [
        "l_t"
      ]
    },
    {
      "cell_type": "code",
      "execution_count": null,
      "metadata": {
        "id": "2WXzmCSdB_jI"
      },
      "outputs": [],
      "source": [
        "l_t.requires_grad"
      ]
    },
    {
      "cell_type": "markdown",
      "metadata": {
        "id": "zJEjjKBFB_jK"
      },
      "source": [
        "After the computation is finished, i.e. *forward pass*, you can call ```.backward()``` and have all the gradients computed automatically."
      ]
    },
    {
      "cell_type": "code",
      "execution_count": null,
      "metadata": {
        "id": "x1m1CowRB_jK"
      },
      "outputs": [],
      "source": [
        "print(w_t.grad)"
      ]
    },
    {
      "cell_type": "code",
      "execution_count": null,
      "metadata": {
        "id": "rTw9bl4DB_jM"
      },
      "outputs": [],
      "source": [
        "l_t.backward()"
      ]
    },
    {
      "cell_type": "code",
      "execution_count": null,
      "metadata": {
        "id": "k4_zWnJkB_jO"
      },
      "outputs": [],
      "source": [
        "print(w_t.grad)\n",
        "print(b_t.grad)"
      ]
    },
    {
      "cell_type": "markdown",
      "metadata": {
        "id": "b8fwcPgHB_jP"
      },
      "source": [
        "[Video timestamp](https://youtu.be/Z6H3zakmn6E?t=545)\n",
        "\n",
        "Let's try to understand these numbers...\n",
        "\n",
        "![backprop2](https://dataflowr.github.io/notebooks/Module2/img/backprop2.png)"
      ]
    },
    {
      "cell_type": "code",
      "execution_count": null,
      "metadata": {
        "id": "ZDV9lByQB_jP"
      },
      "outputs": [],
      "source": [
        "yy_t = torch.exp(w_t*xx_t+b_t)\n",
        "print(torch.sum(2*(yy_t-ystar_t)*yy_t*xx_t))\n",
        "print(torch.sum(2*(yy_t-ystar_t)*yy_t))"
      ]
    },
    {
      "cell_type": "markdown",
      "metadata": {
        "id": "QMguUH4y8WgW"
      },
      "source": [
        "`tensor.backward()` accumulates the gradients in  the `grad` fields  of tensors."
      ]
    },
    {
      "cell_type": "code",
      "execution_count": null,
      "metadata": {
        "id": "70jDhm91B_jR"
      },
      "outputs": [],
      "source": [
        "l_t = fun(xx_t,ystar_t)\n",
        "l_t.backward()"
      ]
    },
    {
      "cell_type": "code",
      "execution_count": null,
      "metadata": {
        "id": "L5H8BQOs8WgW"
      },
      "outputs": [],
      "source": [
        "print(w_t.grad)\n",
        "print(b_t.grad)"
      ]
    },
    {
      "cell_type": "markdown",
      "metadata": {
        "id": "1H2ZnVM5B_jU"
      },
      "source": [
        "By default, `backward` deletes the computational graph when it is used so that you will get an error below:"
      ]
    },
    {
      "cell_type": "code",
      "execution_count": null,
      "metadata": {
        "id": "06_uW2EwB_jU"
      },
      "outputs": [],
      "source": [
        "l_t.backward()"
      ]
    },
    {
      "cell_type": "code",
      "execution_count": null,
      "metadata": {
        "id": "fHxmIJj2B_jX"
      },
      "outputs": [],
      "source": [
        "# Manually zero the gradients\n",
        "w_t.grad.data.zero_()\n",
        "b_t.grad.data.zero_()\n",
        "l_t = fun(xx_t,ystar_t)\n",
        "l_t.backward(retain_graph=True)\n",
        "l_t.backward()\n",
        "print(w_t.grad)\n",
        "print(b_t.grad)"
      ]
    },
    {
      "cell_type": "markdown",
      "metadata": {
        "id": "v40jAQEE8Wgu"
      },
      "source": [
        "The gradients must be set to zero manually. Otherwise they will cumulate across several _.backward()_ calls.\n",
        "This accumulating behavior is desirable in particular to compute the gradient of a loss summed over several “mini-batches,” or the gradient of a sum of losses."
      ]
    },
    {
      "cell_type": "code",
      "metadata": {
        "id": "CAiS-TfqDOMU"
      },
      "source": [
        "[![Dataflowr](https://raw.githubusercontent.com/dataflowr/website/master/_assets/dataflowr_logo.png)](https://dataflowr.github.io/website/)"
      ],
      "execution_count": null,
      "outputs": []
    }
  ],
  "metadata": {
    "accelerator": "GPU",
    "colab": {
      "name": "02_basics.ipynb",
      "provenance": [],
      "include_colab_link": true
    },
    "kernelspec": {
      "display_name": "Python 3",
      "language": "python",
      "name": "python3"
    },
    "language_info": {
      "codemirror_mode": {
        "name": "ipython",
        "version": 3
      },
      "file_extension": ".py",
      "mimetype": "text/x-python",
      "name": "python",
      "nbconvert_exporter": "python",
      "pygments_lexer": "ipython3",
      "version": "3.6.9"
    }
  },
  "nbformat": 4,
  "nbformat_minor": 0
}